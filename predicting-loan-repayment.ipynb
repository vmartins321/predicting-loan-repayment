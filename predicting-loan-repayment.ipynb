{
 "cells": [
  {
   "cell_type": "markdown",
   "metadata": {},
   "source": [
    "# Predicting Loan Repayment with Call Logs"
   ]
  },
  {
   "cell_type": "markdown",
   "metadata": {},
   "source": [
    "This notebook predicts loan repayment given call logs."
   ]
  },
  {
   "cell_type": "code",
   "execution_count": 1,
   "metadata": {
    "ExecuteTime": {
     "end_time": "2018-12-17T20:48:34.256223Z",
     "start_time": "2018-12-17T20:48:32.375748Z"
    }
   },
   "outputs": [
    {
     "name": "stderr",
     "output_type": "stream",
     "text": [
      "/Users/victoria/miniconda3/lib/python3.6/site-packages/sklearn/ensemble/weight_boosting.py:29: DeprecationWarning: numpy.core.umath_tests is an internal NumPy module and should not be imported. It will be removed in a future NumPy release.\n",
      "  from numpy.core.umath_tests import inner1d\n"
     ]
    }
   ],
   "source": [
    "import pandas as pd\n",
    "import numpy as np\n",
    "import seaborn as sns\n",
    "from sklearn.model_selection import train_test_split, \\\n",
    "    RandomizedSearchCV\n",
    "from sklearn.ensemble import RandomForestClassifier\n",
    "from sklearn.metrics import classification_report, \\\n",
    "    f1_score, make_scorer"
   ]
  },
  {
   "cell_type": "markdown",
   "metadata": {},
   "source": [
    "## Load Data\n",
    "Read in the data and perform basic metadata analysis.\n",
    "Check the columns for missing data."
   ]
  },
  {
   "cell_type": "code",
   "execution_count": 2,
   "metadata": {
    "ExecuteTime": {
     "end_time": "2018-12-17T20:48:37.193391Z",
     "start_time": "2018-12-17T20:48:34.258468Z"
    }
   },
   "outputs": [],
   "source": [
    "repayment = pd.read_csv(\n",
    "    \"~/Downloads/DataScienceChallengeData/\"\n",
    "    \"dataScienceChallenge_repayment.csv\")\n",
    "call_log = pd.read_csv(\n",
    "    \"~/Downloads/DataScienceChallengeData/\"\n",
    "    \"dataScienceChallenge_calllog.csv\")"
   ]
  },
  {
   "cell_type": "code",
   "execution_count": 3,
   "metadata": {
    "ExecuteTime": {
     "end_time": "2018-12-17T20:48:37.685243Z",
     "start_time": "2018-12-17T20:48:37.195915Z"
    }
   },
   "outputs": [
    {
     "name": "stdout",
     "output_type": "stream",
     "text": [
      "Repayment sum of null values:\n",
      "-----------------------------------\n",
      "person_id_random     0\n",
      "signup_date          0\n",
      "disbursement_date    0\n",
      "paid_first_loan      0\n",
      "dtype: int64\n",
      "\n",
      "Call log sum of null values:\n",
      "-----------------------------------\n",
      "person_id_random              0\n",
      "phone_randomized              0\n",
      "contact_name_redacted    276676\n",
      "direction                     0\n",
      "duration                      0\n",
      "local_timestamp               0\n",
      "dtype: int64\n"
     ]
    }
   ],
   "source": [
    "print(f\"Repayment sum of null values:\\n{35 * '-'}\")\n",
    "print(f\"{repayment.isnull().sum()}\\n\")\n",
    "print(f\"Call log sum of null values:\\n{35 * '-'}\")\n",
    "print(f\"{call_log.isnull().sum()}\")"
   ]
  },
  {
   "cell_type": "markdown",
   "metadata": {},
   "source": [
    "There are no null values, except contact name."
   ]
  },
  {
   "cell_type": "code",
   "execution_count": 4,
   "metadata": {
    "ExecuteTime": {
     "end_time": "2018-12-17T20:48:37.747319Z",
     "start_time": "2018-12-17T20:48:37.694492Z"
    }
   },
   "outputs": [
    {
     "name": "stdout",
     "output_type": "stream",
     "text": [
      "Repayment sum of unique ids: 1250\n",
      "Call log sum of unique ids: 1216\n"
     ]
    }
   ],
   "source": [
    "print(\n",
    "    f\"Repayment sum of unique ids: {repayment['person_id_random'].nunique()}\")\n",
    "print(\n",
    "    f\"Call log sum of unique ids: {call_log['person_id_random'].nunique()}\")"
   ]
  },
  {
   "cell_type": "markdown",
   "metadata": {
    "ExecuteTime": {
     "end_time": "2018-09-01T19:58:56.180045Z",
     "start_time": "2018-09-01T19:58:56.175305Z"
    }
   },
   "source": [
    "Id's are unique in repayment data, but not every repayment id has a call log entry. "
   ]
  },
  {
   "cell_type": "markdown",
   "metadata": {},
   "source": [
    "## Feature Exploration and Engineering\n",
    "I hypothesized that better borrowers may:\n",
    "* Make more calls than they receive\n",
    "* Have fewer missed calls\n",
    "* Make longer calls\n",
    "* Use more peak minutes\n",
    "* Have more contacts\n",
    "\n",
    "Based on this, I chose a small set of features that I thought would have the greatest impact on the model. \n",
    "* Out-in-ratio - the ratio of outgoing to incoming calls. This represents people reaching out to their network more.\n",
    "* Sum duration - sum of call duration. This represents someone has more disposable income to spend on a phone plan. \n",
    "* Percent peak duration - the sum of duration that happened between peak hours. Similar to the above, this represents someone has more disposable income. \n",
    "* Minimum number of contacts - the minimum number of people in contact. This represents the size of someone’s social network. Without full phone numbers, we couldn’t get the exact count of contacts, so it was approximated using the redacted strings. This will undercount the true value. \n",
    "* Percent missed calls - the percentage of calls that were missed. This represents someone’s responsiveness.\n",
    "\n",
    "Other interesting features we could explore in the future:\n",
    "* Area code - Area codes may represent characteristics of local populations such as their relative affluence. \n",
    "* Disbursement date  -  Both signup date and disbursement date were present in the data, making it possible to use the time features to represent seasonality or even the difference between signup date and disbursement date.\n",
    "* Contact name - Given the full contact name we could mine patterns such as the level of contact specificity e.g. full name vs. first name only. \n",
    "* Phone numbers - Given the full phone numbers we could also identify connections between people. For example, we may have higher confidence in someone who is connected to a successful borrower. We could also get a true value for the number of contacts.\n"
   ]
  },
  {
   "cell_type": "code",
   "execution_count": 5,
   "metadata": {
    "ExecuteTime": {
     "end_time": "2018-12-17T20:48:37.758637Z",
     "start_time": "2018-12-17T20:48:37.751883Z"
    }
   },
   "outputs": [],
   "source": [
    "call_features = pd.DataFrame()"
   ]
  },
  {
   "cell_type": "markdown",
   "metadata": {},
   "source": [
    "### Duration\n"
   ]
  },
  {
   "cell_type": "code",
   "execution_count": 6,
   "metadata": {
    "ExecuteTime": {
     "end_time": "2018-12-17T20:48:39.217596Z",
     "start_time": "2018-12-17T20:48:37.763069Z"
    }
   },
   "outputs": [
    {
     "name": "stdout",
     "output_type": "stream",
     "text": [
      "Minimum duration of outgoing: 0\n",
      "Maximum duration of outgoing: 128128\n",
      "\n",
      "Minimum duration of incoming: 0\n",
      "Maximum duration of incoming: 6465\n",
      "\n",
      "Minimum duration of missed: -1\n",
      "Maximum duration of missed: 72\n",
      "\n",
      "Minimum duration of unknown: 0\n",
      "Maximum duration of unknown: 0\n",
      "\n"
     ]
    }
   ],
   "source": [
    "for i in call_log[\"direction\"].unique():\n",
    "    print(f\"Minimum duration of {i}: {min( \\\n",
    "        call_log.loc[call_log['direction']==i]['duration'])}\")\n",
    "    print(f\"Maximum duration of {i}: {max( \\\n",
    "        call_log.loc[call_log['direction']==i]['duration'])}\\n\")"
   ]
  },
  {
   "cell_type": "markdown",
   "metadata": {},
   "source": [
    "Unknown calls always have zero duration, but missed calls can have a duration."
   ]
  },
  {
   "cell_type": "code",
   "execution_count": 7,
   "metadata": {
    "ExecuteTime": {
     "end_time": "2018-12-17T20:48:40.150012Z",
     "start_time": "2018-12-17T20:48:39.219667Z"
    }
   },
   "outputs": [
    {
     "data": {
      "text/plain": [
       "<matplotlib.axes._subplots.AxesSubplot at 0x12e992438>"
      ]
     },
     "execution_count": 7,
     "metadata": {},
     "output_type": "execute_result"
    },
    {
     "data": {
      "image/png": "[encoded data removed]",
      "text/plain": [
       "<Figure size 432x288 with 1 Axes>"
      ]
     },
     "metadata": {},
     "output_type": "display_data"
    }
   ],
   "source": [
    "sns.boxplot(x=call_log[\"direction\"], y=call_log[\"duration\"])"
   ]
  },
  {
   "cell_type": "markdown",
   "metadata": {},
   "source": [
    "Outgoing calls has outliers."
   ]
  },
  {
   "cell_type": "code",
   "execution_count": 8,
   "metadata": {
    "ExecuteTime": {
     "end_time": "2018-12-17T20:48:40.442528Z",
     "start_time": "2018-12-17T20:48:40.152465Z"
    }
   },
   "outputs": [],
   "source": [
    "made_calls = call_log.loc[call_log[\"direction\"]!=\"missed\"]\n",
    "call_features[\"sum_duration\"] = made_calls.groupby(\n",
    "    \"person_id_random\")[\"duration\"].sum()"
   ]
  },
  {
   "cell_type": "markdown",
   "metadata": {},
   "source": [
    "### Direction"
   ]
  },
  {
   "cell_type": "code",
   "execution_count": 9,
   "metadata": {
    "ExecuteTime": {
     "end_time": "2018-12-17T20:48:40.517758Z",
     "start_time": "2018-12-17T20:48:40.449616Z"
    }
   },
   "outputs": [
    {
     "name": "stdout",
     "output_type": "stream",
     "text": [
      "Values of direction: ['outgoing' 'incoming' 'missed' 'unknown']\n"
     ]
    }
   ],
   "source": [
    " print(f\"Values of direction: {call_log['direction'].unique()}\")"
   ]
  },
  {
   "cell_type": "code",
   "execution_count": 10,
   "metadata": {
    "ExecuteTime": {
     "end_time": "2018-12-17T20:48:41.210553Z",
     "start_time": "2018-12-17T20:48:40.521883Z"
    }
   },
   "outputs": [],
   "source": [
    "outgoing = call_log[call_log[\"direction\"]==\"outgoing\"]\n",
    "incoming = call_log[call_log[\"direction\"]==\"incoming\"]\n",
    "missed = call_log[call_log[\"direction\"]==\"missed\"]\n",
    "\n",
    "call_features[\"sum_outgoing\"] = outgoing.groupby(\n",
    "    \"person_id_random\")[\"direction\"].count()\n",
    "call_features[\"sum_incoming\"] = incoming.groupby(\n",
    "    \"person_id_random\")[\"direction\"].count()\n",
    "call_features[\"sum_missed\"] = missed.groupby(\n",
    "    \"person_id_random\")[\"direction\"].count()\n",
    "call_features[\"sum_calls\"] = call_log.groupby(\n",
    "    \"person_id_random\")[\"direction\"].count()\n",
    "\n",
    "call_features[\"sum_outgoing\"].fillna(0, inplace=True)  \n",
    "call_features[\"sum_incoming\"].fillna(1, inplace=True) \n",
    "call_features[\"sum_missed\"].fillna(0, inplace=True)\n",
    "\n",
    "call_features[\"pct_missed\"] = call_features[\"sum_missed\"]/ \\\n",
    "    call_features[\"sum_calls\"]\n",
    "call_features[\"out_in_ratio\"] = call_features[\"sum_outgoing\"]/ \\\n",
    "    call_features[\"sum_incoming\"]\n",
    "\n",
    "call_features.drop(\n",
    "    columns=[\"sum_outgoing\", \n",
    "             \"sum_incoming\", \n",
    "             \"sum_missed\", \n",
    "             \"sum_calls\"],\n",
    "    inplace=True)"
   ]
  },
  {
   "cell_type": "markdown",
   "metadata": {
    "ExecuteTime": {
     "end_time": "2018-09-01T22:20:37.587565Z",
     "start_time": "2018-09-01T22:20:37.585099Z"
    }
   },
   "source": [
    "### Timestamp"
   ]
  },
  {
   "cell_type": "code",
   "execution_count": 11,
   "metadata": {
    "ExecuteTime": {
     "end_time": "2018-12-17T20:48:41.573363Z",
     "start_time": "2018-12-17T20:48:41.212768Z"
    }
   },
   "outputs": [],
   "source": [
    "call_log[\"local_timestamp\"] = pd.to_datetime(\n",
    "    call_log[\"local_timestamp\"])"
   ]
  },
  {
   "cell_type": "code",
   "execution_count": 12,
   "metadata": {
    "ExecuteTime": {
     "end_time": "2018-12-17T20:48:41.885350Z",
     "start_time": "2018-12-17T20:48:41.575374Z"
    }
   },
   "outputs": [
    {
     "data": {
      "text/plain": [
       "<matplotlib.axes._subplots.AxesSubplot at 0x11db844e0>"
      ]
     },
     "execution_count": 12,
     "metadata": {},
     "output_type": "execute_result"
    },
    {
     "data": {
      "image/png": "[encoded data removed]",
      "text/plain": [
       "<Figure size 432x288 with 1 Axes>"
      ]
     },
     "metadata": {},
     "output_type": "display_data"
    }
   ],
   "source": [
    "sns.distplot(call_log[\"local_timestamp\"].dt.hour, \n",
    "             kde=False,\n",
    "             bins=np.arange(0, 24))"
   ]
  },
  {
   "cell_type": "code",
   "execution_count": 13,
   "metadata": {
    "ExecuteTime": {
     "end_time": "2018-12-17T20:48:42.112809Z",
     "start_time": "2018-12-17T20:48:41.887265Z"
    }
   },
   "outputs": [],
   "source": [
    "peak_call_log = call_log.loc[call_log[\"local_timestamp\"].dt.hour.isin(\n",
    "    range(8, 21))]\n",
    "\n",
    "sum_peak_duration = peak_call_log.groupby(\n",
    "    \"person_id_random\")[\"duration\"].sum()\n",
    "\n",
    "call_features[\"pct_peak\"] = sum_peak_duration/ \\\n",
    "    call_features[\"sum_duration\"]"
   ]
  },
  {
   "cell_type": "markdown",
   "metadata": {},
   "source": [
    "### Contact Name"
   ]
  },
  {
   "cell_type": "markdown",
   "metadata": {},
   "source": [
    "We don't have exact contact names, but can still approximate the number of contacts by taking the unique values of the redacted name. Because there will be some overlap, we'll call this the minimum number of contacts, meaning they have at least that many, maybe more. "
   ]
  },
  {
   "cell_type": "code",
   "execution_count": 14,
   "metadata": {
    "ExecuteTime": {
     "end_time": "2018-12-17T20:48:42.764169Z",
     "start_time": "2018-12-17T20:48:42.114713Z"
    }
   },
   "outputs": [],
   "source": [
    "call_features[\"min_num_contacts\"] = call_log.groupby(\n",
    "    \"person_id_random\")[\"contact_name_redacted\"].nunique()"
   ]
  },
  {
   "cell_type": "markdown",
   "metadata": {},
   "source": [
    "## Predictive Modeling"
   ]
  },
  {
   "cell_type": "markdown",
   "metadata": {},
   "source": [
    "We need to merge the features back to the repayment data and drop any columns we didn't engineer. Then check again for any null or infinity values.\n",
    "\n",
    "I chose a random forest because it has several nice features that work well with our data. \n",
    "* Resistant to outliers - tree-based models will split data based on a threshold, so the magnitude of the value is not part of decision, just whether it is above or below the threshold. \n",
    "* Invariant to feature scale - tree-based models use splits rather than distances so it is not necessary to standardize features. However there is some bias in the resultant feature importances. \n",
    "* Has features to handle imbalanced data - trees are sensitive to class imbalance, but you can use class weights during training to increase the weight of errors for the minority class, and/or you can use a higher threshold to account for the risks associated with underpredicting defaults. I used class weights because although it decreases the overall model accuracy, it improved the recall of defaults. \n",
    "\n",
    "In the future we could compare multiple algorithms.\n"
   ]
  },
  {
   "cell_type": "code",
   "execution_count": 15,
   "metadata": {
    "ExecuteTime": {
     "end_time": "2018-12-17T20:48:42.785656Z",
     "start_time": "2018-12-17T20:48:42.766362Z"
    }
   },
   "outputs": [],
   "source": [
    "call_features.reset_index(inplace=True)\n",
    "\n",
    "data = pd.merge(repayment, \n",
    "                call_features, \n",
    "                how = \"inner\", \n",
    "                on = \"person_id_random\")\n",
    "\n",
    "data.drop(\n",
    "    columns=[\"signup_date\", \"disbursement_date\", \"person_id_random\"], \n",
    "    inplace=True)"
   ]
  },
  {
   "cell_type": "code",
   "execution_count": 16,
   "metadata": {
    "ExecuteTime": {
     "end_time": "2018-12-17T20:48:42.795584Z",
     "start_time": "2018-12-17T20:48:42.788101Z"
    }
   },
   "outputs": [
    {
     "name": "stdout",
     "output_type": "stream",
     "text": [
      "Sum of null values:\n",
      "-----------------------------------\n",
      "paid_first_loan     0\n",
      "sum_duration        0\n",
      "pct_missed          0\n",
      "out_in_ratio        0\n",
      "pct_peak            0\n",
      "min_num_contacts    0\n",
      "dtype: int64\n"
     ]
    }
   ],
   "source": [
    "print(f\"Sum of null values:\\n{35 * '-'}\")\n",
    "print(f\"{data.isnull().sum()}\")"
   ]
  },
  {
   "cell_type": "code",
   "execution_count": 17,
   "metadata": {
    "ExecuteTime": {
     "end_time": "2018-12-17T20:48:42.808742Z",
     "start_time": "2018-12-17T20:48:42.800694Z"
    }
   },
   "outputs": [
    {
     "name": "stdout",
     "output_type": "stream",
     "text": [
      "Sum of infinite values:\n",
      "-----------------------------------\n",
      "paid_first_loan     0\n",
      "sum_duration        0\n",
      "pct_missed          0\n",
      "out_in_ratio        0\n",
      "pct_peak            0\n",
      "min_num_contacts    0\n",
      "dtype: int64\n"
     ]
    }
   ],
   "source": [
    "print(f\"Sum of infinite values:\\n{35 * '-'}\")\n",
    "print(f\"{np.isinf(data).sum()}\")"
   ]
  },
  {
   "cell_type": "code",
   "execution_count": 18,
   "metadata": {
    "ExecuteTime": {
     "end_time": "2018-12-17T20:48:42.817536Z",
     "start_time": "2018-12-17T20:48:42.811193Z"
    }
   },
   "outputs": [
    {
     "name": "stdout",
     "output_type": "stream",
     "text": [
      "Loan Repayment Rate = 0.8273026315789473\n"
     ]
    }
   ],
   "source": [
    "paid_loans = len(data[data[\"paid_first_loan\"]==1])\n",
    "total_loans = len(data)\n",
    "print(f\"Loan Repayment Rate = {paid_loans/total_loans}\")"
   ]
  },
  {
   "cell_type": "markdown",
   "metadata": {},
   "source": [
    "We have a class imbalance."
   ]
  },
  {
   "cell_type": "code",
   "execution_count": 19,
   "metadata": {
    "ExecuteTime": {
     "end_time": "2018-12-17T20:48:42.823557Z",
     "start_time": "2018-12-17T20:48:42.819904Z"
    }
   },
   "outputs": [],
   "source": [
    "X = data.drop(columns=[\"paid_first_loan\"])\n",
    "y = data[\"paid_first_loan\"]"
   ]
  },
  {
   "cell_type": "markdown",
   "metadata": {},
   "source": [
    "Split the data and make a random forest classifier."
   ]
  },
  {
   "cell_type": "code",
   "execution_count": 20,
   "metadata": {
    "ExecuteTime": {
     "end_time": "2018-12-17T20:48:42.832841Z",
     "start_time": "2018-12-17T20:48:42.826014Z"
    }
   },
   "outputs": [],
   "source": [
    "X_train, X_test, y_train, y_test = train_test_split(\n",
    "    X, y, test_size=0.3, random_state=0)"
   ]
  },
  {
   "cell_type": "code",
   "execution_count": 21,
   "metadata": {
    "ExecuteTime": {
     "end_time": "2018-12-17T20:48:42.840387Z",
     "start_time": "2018-12-17T20:48:42.836223Z"
    }
   },
   "outputs": [],
   "source": [
    "rf = RandomForestClassifier()"
   ]
  },
  {
   "cell_type": "markdown",
   "metadata": {},
   "source": [
    "Make a set of parameters to search and a custom scorer."
   ]
  },
  {
   "cell_type": "code",
   "execution_count": 22,
   "metadata": {
    "ExecuteTime": {
     "end_time": "2018-12-17T20:48:42.850541Z",
     "start_time": "2018-12-17T20:48:42.843608Z"
    }
   },
   "outputs": [],
   "source": [
    "params = {\n",
    "    \"n_estimators\": [int(x) for x in np.linspace(100, 2000, 100)],\n",
    "    \"max_features\": [\"auto\", \"sqrt\"],\n",
    "    \"max_depth\": [int(x) for x in np.linspace(10, 100, 10)],\n",
    "    \"min_samples_split\": [2, 5, 10],\n",
    "    \"min_samples_leaf\": [1, 10, 20],\n",
    "    \"bootstrap\": [True, False],\n",
    "    \"class_weight\": [\"balanced\", None, \"balanced_subsample\"]\n",
    "         }\n",
    "\n",
    "f1_weighted = make_scorer(f1_score, average=\"weighted\")"
   ]
  },
  {
   "cell_type": "code",
   "execution_count": 23,
   "metadata": {
    "ExecuteTime": {
     "end_time": "2018-12-17T20:50:41.441630Z",
     "start_time": "2018-12-17T20:48:42.854612Z"
    }
   },
   "outputs": [
    {
     "name": "stdout",
     "output_type": "stream",
     "text": [
      "Fitting 3 folds for each of 100 candidates, totalling 300 fits\n"
     ]
    },
    {
     "name": "stderr",
     "output_type": "stream",
     "text": [
      "/Users/victoria/miniconda3/lib/python3.6/site-packages/sklearn/metrics/classification.py:1135: UndefinedMetricWarning: F-score is ill-defined and being set to 0.0 in labels with no predicted samples.\n",
      "  'precision', 'predicted', average, warn_for)\n",
      "[Parallel(n_jobs=-1)]: Done  34 tasks      | elapsed:   20.0s\n",
      "/Users/victoria/miniconda3/lib/python3.6/site-packages/sklearn/metrics/classification.py:1135: UndefinedMetricWarning: F-score is ill-defined and being set to 0.0 in labels with no predicted samples.\n",
      "  'precision', 'predicted', average, warn_for)\n",
      "/Users/victoria/miniconda3/lib/python3.6/site-packages/sklearn/metrics/classification.py:1135: UndefinedMetricWarning: F-score is ill-defined and being set to 0.0 in labels with no predicted samples.\n",
      "  'precision', 'predicted', average, warn_for)\n",
      "[Parallel(n_jobs=-1)]: Done 184 tasks      | elapsed:  1.2min\n",
      "/Users/victoria/miniconda3/lib/python3.6/site-packages/sklearn/metrics/classification.py:1135: UndefinedMetricWarning: F-score is ill-defined and being set to 0.0 in labels with no predicted samples.\n",
      "  'precision', 'predicted', average, warn_for)\n",
      "/Users/victoria/miniconda3/lib/python3.6/site-packages/sklearn/metrics/classification.py:1135: UndefinedMetricWarning: F-score is ill-defined and being set to 0.0 in labels with no predicted samples.\n",
      "  'precision', 'predicted', average, warn_for)\n",
      "[Parallel(n_jobs=-1)]: Done 300 out of 300 | elapsed:  1.9min finished\n"
     ]
    },
    {
     "data": {
      "text/plain": [
       "RandomizedSearchCV(cv=3, error_score='raise',\n",
       "          estimator=RandomForestClassifier(bootstrap=True, class_weight=None, criterion='gini',\n",
       "            max_depth=None, max_features='auto', max_leaf_nodes=None,\n",
       "            min_impurity_decrease=0.0, min_impurity_split=None,\n",
       "            min_samples_leaf=1, min_samples_split=2,\n",
       "            min_weight_fraction_leaf=0.0, n_estimators=10, n_jobs=1,\n",
       "            oob_score=False, random_state=None, verbose=0,\n",
       "            warm_start=False),\n",
       "          fit_params=None, iid=True, n_iter=100, n_jobs=-1,\n",
       "          param_distributions={'n_estimators': [100, 119, 138, 157, 176, 195, 215, 234, 253, 272, 291, 311, 330, 349, 368, 387, 407, 426, 445, 464, 483, 503, 522, 541, 560, 579, 598, 618, 637, 656, 675, 694, 714, 733, 752, 771, 790, 810, 829, 848, 867, 886, 906, 925, 944, 963, 982, 1002, 1021, 1040, 1059, 107...: [1, 10, 20], 'bootstrap': [True, False], 'class_weight': ['balanced', None, 'balanced_subsample']},\n",
       "          pre_dispatch='2*n_jobs', random_state=0, refit=True,\n",
       "          return_train_score='warn',\n",
       "          scoring=make_scorer(f1_score, average=weighted), verbose=1)"
      ]
     },
     "execution_count": 23,
     "metadata": {},
     "output_type": "execute_result"
    }
   ],
   "source": [
    "rf_random = RandomizedSearchCV(estimator=rf, \n",
    "                               param_distributions=params,\n",
    "                               n_iter=100, \n",
    "                               cv=3, \n",
    "                               verbose=1, \n",
    "                               random_state=0,\n",
    "                               n_jobs=-1,\n",
    "                               scoring=f1_weighted)\n",
    "\n",
    "rf_random.fit(X_train, y_train)"
   ]
  },
  {
   "cell_type": "code",
   "execution_count": 24,
   "metadata": {
    "ExecuteTime": {
     "end_time": "2018-12-17T20:50:41.449677Z",
     "start_time": "2018-12-17T20:50:41.445012Z"
    }
   },
   "outputs": [
    {
     "data": {
      "text/plain": [
       "{'n_estimators': 1808,\n",
       " 'min_samples_split': 10,\n",
       " 'min_samples_leaf': 1,\n",
       " 'max_features': 'auto',\n",
       " 'max_depth': 100,\n",
       " 'class_weight': 'balanced_subsample',\n",
       " 'bootstrap': True}"
      ]
     },
     "execution_count": 24,
     "metadata": {},
     "output_type": "execute_result"
    }
   ],
   "source": [
    "rf_random.best_params_"
   ]
  },
  {
   "cell_type": "markdown",
   "metadata": {},
   "source": [
    "Fit the best parameters."
   ]
  },
  {
   "cell_type": "code",
   "execution_count": 25,
   "metadata": {
    "ExecuteTime": {
     "end_time": "2018-12-17T20:50:41.456056Z",
     "start_time": "2018-12-17T20:50:41.451495Z"
    }
   },
   "outputs": [],
   "source": [
    "rf_best_random = rf_random.best_estimator_"
   ]
  },
  {
   "cell_type": "markdown",
   "metadata": {},
   "source": [
    "## Model Evaluation"
   ]
  },
  {
   "cell_type": "markdown",
   "metadata": {},
   "source": [
    "After choosing the best parameters with a randomized search, I did a final model evaluation on a holdout set. \n",
    "* Weighted f1-score - used to tune the model. It combines precision and recall. When weighted, it will find the average weighted by the number of instances for each label to account for imbalanced classes.\n",
    "* Precision/Recall - precision is the rate of true positives out of all predicted positives and recall is the rate of true positives out of all actual positives. We want to be able to use the predicted probability to trade-off precision and recall depending on how much risk we want in our loan portfolio, and/or to be able to set appropriate interests rates based on risk. \n",
    "\n",
    "The feature importance is the gini importance, it represents the reduction in uncertainty of each feature by measuring the decrease in node impurity over the all the trees. This allows us to remove any unnecessary features and get an estimation of relative importance. \n"
   ]
  },
  {
   "cell_type": "code",
   "execution_count": 26,
   "metadata": {
    "ExecuteTime": {
     "end_time": "2018-12-17T20:50:41.702415Z",
     "start_time": "2018-12-17T20:50:41.458102Z"
    }
   },
   "outputs": [
    {
     "name": "stdout",
     "output_type": "stream",
     "text": [
      "             precision    recall  f1-score   support\n",
      "\n",
      "          0       0.33      0.29      0.31        58\n",
      "          1       0.87      0.89      0.88       307\n",
      "\n",
      "avg / total       0.78      0.79      0.79       365\n",
      "\n"
     ]
    }
   ],
   "source": [
    "class_predictions = rf_best_random.predict(X_test)\n",
    "print(classification_report(y_test, class_predictions))"
   ]
  },
  {
   "cell_type": "code",
   "execution_count": 27,
   "metadata": {
    "ExecuteTime": {
     "end_time": "2018-12-17T20:50:41.713999Z",
     "start_time": "2018-12-17T20:50:41.705335Z"
    }
   },
   "outputs": [
    {
     "name": "stdout",
     "output_type": "stream",
     "text": [
      "Predicted Repayment Rate = 0.8575342465753425\n"
     ]
    }
   ],
   "source": [
    "class_pred_df = pd.DataFrame(class_predictions, \n",
    "                             columns = [\"repayment_prediction\"])\n",
    "loan_repayment = sum(class_pred_df[\"repayment_prediction\"]==1)\n",
    "print(f\"Predicted Repayment Rate = {loan_repayment/len(class_pred_df)}\")"
   ]
  },
  {
   "cell_type": "markdown",
   "metadata": {
    "ExecuteTime": {
     "end_time": "2018-09-03T01:31:58.315185Z",
     "start_time": "2018-09-03T01:31:58.311258Z"
    }
   },
   "source": [
    "The model is overpredicting loan repayment just a bit compared to the sample population."
   ]
  },
  {
   "cell_type": "code",
   "execution_count": 28,
   "metadata": {
    "ExecuteTime": {
     "end_time": "2018-12-17T20:50:41.895704Z",
     "start_time": "2018-12-17T20:50:41.718848Z"
    }
   },
   "outputs": [
    {
     "data": {
      "text/html": [
       "<div>\n",
       "<style scoped>\n",
       "    .dataframe tbody tr th:only-of-type {\n",
       "        vertical-align: middle;\n",
       "    }\n",
       "\n",
       "    .dataframe tbody tr th {\n",
       "        vertical-align: top;\n",
       "    }\n",
       "\n",
       "    .dataframe thead th {\n",
       "        text-align: right;\n",
       "    }\n",
       "</style>\n",
       "<table border=\"1\" class=\"dataframe\">\n",
       "  <thead>\n",
       "    <tr style=\"text-align: right;\">\n",
       "      <th></th>\n",
       "      <th>importance</th>\n",
       "    </tr>\n",
       "  </thead>\n",
       "  <tbody>\n",
       "    <tr>\n",
       "      <th>sum_duration</th>\n",
       "      <td>0.304553</td>\n",
       "    </tr>\n",
       "    <tr>\n",
       "      <th>pct_missed</th>\n",
       "      <td>0.153037</td>\n",
       "    </tr>\n",
       "    <tr>\n",
       "      <th>out_in_ratio</th>\n",
       "      <td>0.169190</td>\n",
       "    </tr>\n",
       "    <tr>\n",
       "      <th>pct_peak</th>\n",
       "      <td>0.152052</td>\n",
       "    </tr>\n",
       "    <tr>\n",
       "      <th>min_num_contacts</th>\n",
       "      <td>0.221169</td>\n",
       "    </tr>\n",
       "  </tbody>\n",
       "</table>\n",
       "</div>"
      ],
      "text/plain": [
       "                  importance\n",
       "sum_duration        0.304553\n",
       "pct_missed          0.153037\n",
       "out_in_ratio        0.169190\n",
       "pct_peak            0.152052\n",
       "min_num_contacts    0.221169"
      ]
     },
     "execution_count": 28,
     "metadata": {},
     "output_type": "execute_result"
    }
   ],
   "source": [
    "pd.DataFrame(rf_best_random.feature_importances_,\n",
    "             X_train.columns, \n",
    "             columns = [\"importance\"])"
   ]
  },
  {
   "cell_type": "code",
   "execution_count": null,
   "metadata": {},
   "outputs": [],
   "source": []
  }
 ],
 "metadata": {
  "hide_input": false,
  "kernelspec": {
   "display_name": "Python 3",
   "language": "python",
   "name": "python3"
  },
  "language_info": {
   "codemirror_mode": {
    "name": "ipython",
    "version": 3
   },
   "file_extension": ".py",
   "mimetype": "text/x-python",
   "name": "python",
   "nbconvert_exporter": "python",
   "pygments_lexer": "ipython3",
   "version": "3.6.5"
  },
  "toc": {
   "base_numbering": 1,
   "nav_menu": {
    "height": "174px",
    "width": "252px"
   },
   "number_sections": true,
   "sideBar": true,
   "skip_h1_title": false,
   "title_cell": "Table of Contents",
   "title_sidebar": "Contents",
   "toc_cell": false,
   "toc_position": {
    "height": "772px",
    "left": "0px",
    "right": "771px",
    "top": "76px",
    "width": "109px"
   },
   "toc_section_display": "block",
   "toc_window_display": true
  }
 },
 "nbformat": 4,
 "nbformat_minor": 2
}
